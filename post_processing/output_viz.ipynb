{
 "cells": [
  {
   "cell_type": "code",
   "execution_count": null,
   "id": "6bc932d2",
   "metadata": {},
   "outputs": [],
   "source": [
    "import pandas as pd \n",
    "import numpy as np \n",
    "import seaborn as sb \n",
    "import matplotlib.pyplot as plt \n",
    "from matplotlib.ticker import FuncFormatter"
   ]
  },
  {
   "cell_type": "code",
   "execution_count": null,
   "id": "54f3a8d1",
   "metadata": {},
   "outputs": [],
   "source": [
    "def make_all_scatterplot(fairness_df, filename=None):\n",
    "\n",
    "    sb.set_style(\"white\")\n",
    "    sb.set(font_scale=1.25)\n",
    "    color_map = {\n",
    "    \"Rescore\": \"#1f77b4\",   \n",
    "    \"Copeland\": \"#ff7f0e\", \n",
    "    \"Borda\": \"#2ca02c\",      \n",
    "    }\n",
    "    agents = fairness_df['agents'].unique()\n",
    "    n_agents = len(agents)\n",
    "    \n",
    "\n",
    "    fig, axes = plt.subplots(1, n_agents, figsize=(6 * n_agents, 5), sharey=True)\n",
    "    \n",
    "    if n_agents == 1:\n",
    "        axes = [axes]  \n",
    "    \n",
    "    legend_handles = None \n",
    "\n",
    "    for ax, agent in zip(axes, agents):\n",
    "\n",
    "        agent_data = fairness_df[fairness_df['agents'] == agent]\n",
    "        \n",
    "        scatterplot = sb.scatterplot(\n",
    "            ax=ax,\n",
    "            x='fairness_norm',\n",
    "            y='mean_ndcg',\n",
    "            data=agent_data,\n",
    "            style=\"allocation\",\n",
    "            hue=\"choice\",\n",
    "            s=130,\n",
    "            markers={\"Lottery\": \"^\", \"Weighted\": \"X\", \"Least Fair\": \"o\"},\n",
    "            palette=color_map\n",
    "            \n",
    "        )\n",
    "        \n",
    "\n",
    "        if legend_handles is None:\n",
    "            legend_handles, legend_labels = ax.get_legend_handles_labels()\n",
    "            #legend_labels = ['Choice Rule', 'Rescore', 'Borda', 'Copeland', 'Allocation', 'Weighted', 'Lottery', 'Least Fair']\n",
    "            # ['choice', 'weightedscoring', 'RuleBorda', 'RuleCopeland', 'allocation', 'weighted', 'product', 'least']\n",
    "        \n",
    "        \n",
    "        ax.legend_.remove()\n",
    "\n",
    "        #ax.axhline(y=base_ndcg, linestyle=\"dashed\", color=\"gray\")\n",
    "        # ax.set_title(f\"Agent: {agent}\", fontsize=14)\n",
    "        ax.set_xlabel(\"Normalized Fairness\", fontsize=18)\n",
    "        if ax == axes[0]:  \n",
    "            ax.set_ylabel(\"NDCG\", fontsize=18)\n",
    "        else:\n",
    "            ax.set_ylabel(\"\")\n",
    "        ax.tick_params(axis=\"both\", labelsize=18)\n",
    "    \n",
    "\n",
    "    fig.legend(legend_handles, legend_labels, fontsize=18, loc=\"center left\", bbox_to_anchor=(1, 0.5), markerscale=1.2)\n",
    "\n",
    "    # if version == 'fairness_norm':\n",
    "    #     ax.scatter(dataset_x, dataset_y, color=\"gray\", marker=\"s\", s=100, label=\"Baseline\")\n",
    "    # else:\n",
    "    #     ax.axhline(y=dataset_y, color=\"gray\", linestyle=\"dotted\", linewidth=2, label=\"Baseline\")\n",
    "    #ax.axhline(y=dataset_y, color=\"gray\", linestyle=\"dotted\", linewidth=2, label=\"Baseline\")\n",
    "\n",
    "    plt.tight_layout(rect=[0, 0, 1, 0.8]) \n",
    "    if filename is not None:\n",
    "        plt.savefig(filename)\n",
    "    plt.show()"
   ]
  },
  {
   "cell_type": "code",
   "execution_count": null,
   "id": "fd80a0a8",
   "metadata": {},
   "outputs": [],
   "source": [
    "custom_palette = {\n",
    "    \"Weighted\": \"#CA0F9A\",  \n",
    "    \"Lottery\": \"#D5E31D\", \n",
    "    \"Least Fair\": \"#354690\" \n",
    "}"
   ]
  },
  {
   "cell_type": "code",
   "execution_count": null,
   "id": "b5be84e7",
   "metadata": {},
   "outputs": [],
   "source": [
    "movies = pd.read_csv('movie_weights_full.csv')\n",
    "music = pd.read_csv('music_weights_full.csv')"
   ]
  },
  {
   "cell_type": "code",
   "execution_count": null,
   "id": "d41e7a84",
   "metadata": {},
   "outputs": [],
   "source": [
    "#clean dataframes\n",
    "movies['weight'] = movies['weight'].str.split(\" \").str[0]\n",
    "movies['weight'] = movies['weight'].astype(float)\n",
    "movies['coverage'] = movies['coverage'].clip(upper=1)\n",
    "music['coverage'] = music['coverage'].clip(upper=1)\n",
    "movies['proportional_fairness_women'] = movies['proportional_fairness_women'].clip(upper=1)\n",
    "music['proportional_fairness_women'] = music['proportional_fairness_women'].clip(upper=1)\n",
    "movies['proportional_fairness_non-en'] = movies['proportional_fairness_non-en'].clip(upper=1)\n",
    "\n",
    "replacements = {\n",
    "    'RuleBorda': 'Borda',\n",
    "    'RuleCopeland': 'Copeland',\n",
    "    'Product': 'Weighted',\n",
    "    'leastFair': 'Least Fair',\n",
    "    'lottery': 'Lottery'\n",
    "}\n",
    "\n",
    "movies = movies.replace(replacements)\n",
    "music = music.replace(replacements)"
   ]
  },
  {
   "cell_type": "code",
   "execution_count": null,
   "id": "4927246d",
   "metadata": {},
   "outputs": [],
   "source": [
    "#visualize ndcg trade-off with recommender weight for movies data\n",
    "for agent in movies[\"agents\"].unique():\n",
    "    movies_agent = movies[movies[\"agents\"] == agent]\n",
    "    if agent == \"group\":\n",
    "        movies['fairness_norm'] = movies['proportional_fairness_women']\n",
    "    if agent == \"individual\":\n",
    "        movies['fairness_norm'] = movies['coverage']\n",
    "    if agent == \"all\":\n",
    "        movies['fairness_norm'] = (movies['proportional_fairness_women']**(1/2)+movies['proportional_fairness_non-en']**(1/2)+movies['coverage']**(1/2))/3\n",
    "    \n",
    "    \n",
    "    g = sb.FacetGrid(movies_agent, col=\"choice\", col_wrap=3, height=4, sharex=True, sharey=True)\n",
    "\n",
    "    g.map_dataframe(sb.lineplot, x=\"weight\", y=\"mean_ndcg\", hue=\"allocation\", marker=\"o\", palette=custom_palette)\n",
    "    g.add_legend(title=\"Allocation Type\")\n",
    "    g.figure.suptitle(f\"NDCG vs fairness Trade-off for Agent: {agent}\", fontsize=16, fontweight=\"bold\")\n",
    "    g.figure.subplots_adjust(top=0.85, hspace=0.3)\n",
    "    g.map(plt.axhline, y=0.1383, ls='--')\n",
    "    for ax, title in zip(g.axes.flat, movies_agent[\"choice\"].unique()):\n",
    "        ax.set_title(f\"Choice Mechanism: {title}\", fontsize=12, fontweight=\"bold\")\n",
    "    \n",
    "    plt.show()"
   ]
  },
  {
   "cell_type": "code",
   "execution_count": null,
   "id": "5b132ab7",
   "metadata": {},
   "outputs": [],
   "source": [
    "#visualize ndcg trade-off with recommender weight for music data\n",
    "for agent in music[\"agents\"].unique():\n",
    "    music_agent = music[music[\"agents\"] == agent]\n",
    "    if agent == \"group\":\n",
    "        music['fairness_norm'] = music['proportional_fairness_women']\n",
    "    if agent == \"individual\":\n",
    "        music['fairness_norm'] = music['coverage']\n",
    "    if agent == \"all\":\n",
    "        music['fairness_norm'] = (music['proportional_fairness_women']**(1/2)+music['coverage']**(1/2))/2\n",
    "    \n",
    "    g = sb.FacetGrid(music_agent, col=\"choice\", col_wrap=3, height=4, sharex=True, sharey=True)\n",
    "    plt.gca().xaxis.set_major_formatter(FuncFormatter(lambda x, _: f\"{x:.3f}\"))\n",
    "    g.map_dataframe(sb.lineplot, x=\"weight\", y=\"mean_ndcg\", hue=\"allocation\", marker=\"o\", palette=custom_palette)\n",
    "\n",
    "    g.add_legend(title=\"Allocation Type\")\n",
    "    g.figure.suptitle(f\"NDCG vs fairness Trade-off for Agent: {agent}\", fontsize=16, fontweight=\"bold\")\n",
    "    g.figure.subplots_adjust(top=0.85, hspace=0.3)\n",
    "    g.map(plt.axhline, y=0.09899, ls='--')\n",
    "    \n",
    "    for ax, title in zip(g.axes.flat, music_agent[\"choice\"].unique()):\n",
    "        ax.set_title(f\"Choice Mechanism: {title}\", fontsize=12, fontweight=\"bold\")\n",
    "    \n",
    "    plt.show()"
   ]
  },
  {
   "cell_type": "code",
   "execution_count": null,
   "id": "5494a093",
   "metadata": {},
   "outputs": [],
   "source": [
    "# grab the lowest recommender weight experiment that maintains the 15% cutoff for movies\n",
    "filtered_movie = movies[movies['mean_ndcg'] >= 0.1383]\n",
    "\n",
    "result_movie = (\n",
    "    filtered_movie\n",
    "    .sort_values('weight') \n",
    "    .groupby(['agents', 'choice', 'allocation'], as_index=False)\n",
    "    .first()  \n",
    ")"
   ]
  },
  {
   "cell_type": "code",
   "execution_count": null,
   "id": "bcb97e26",
   "metadata": {},
   "outputs": [],
   "source": [
    "# grab the lowest recommender weight experiment that maintains the 15% cutoff for music\n",
    "filtered_music = music[music['mean_ndcg'] >= 0.08857]\n",
    "\n",
    "result_music = (\n",
    "    filtered_music\n",
    "    .sort_values('weight') \n",
    "    .groupby(['agents', 'choice', 'allocation'], as_index=False)\n",
    "    .first()  \n",
    ")"
   ]
  },
  {
   "cell_type": "code",
   "execution_count": null,
   "id": "cca984e4",
   "metadata": {},
   "outputs": [],
   "source": [
    "#save this result as csv \n",
    "# result_movie.to_csv(\"movie_15.csv\")\n",
    "# result_music.to_csv(\"music_15.csv\")"
   ]
  },
  {
   "cell_type": "code",
   "execution_count": null,
   "id": "6a763c8c",
   "metadata": {},
   "outputs": [],
   "source": [
    "#Separate out different agent conditions\n",
    "group_movie = result_movie[result_movie[\"agents\"]=='group']\n",
    "all_movie = result_movie[result_movie[\"agents\"]=='all']\n",
    "ind_movie = result_movie[result_movie[\"agents\"]=='individual']\n",
    "\n",
    "group_music = result_music[result_music[\"agents\"]=='group']\n",
    "all_music = result_music[result_music[\"agents\"]=='all']\n",
    "ind_music = result_music[result_music[\"agents\"]=='individual']"
   ]
  },
  {
   "cell_type": "code",
   "execution_count": null,
   "id": "c57420ae",
   "metadata": {},
   "outputs": [],
   "source": [
    "#create fairness norm columns\n",
    "all_music['fairness_norm'] = (all_music['proportional_fairness_women']**(1/2)+all_music['coverage']**(1/2))/2\n",
    "group_movie['fairness_norm'] = (group_movie['proportional_fairness_women']**(1/2)+group_movie['proportional_fairness_non-en']**(1/2))/2\n",
    "all_movie['fairness_norm'] = (all_movie['proportional_fairness_women']**(1/2)+all_movie['proportional_fairness_non-en']**(1/2)+all_movie['coverage']**(1/2))/3\n"
   ]
  },
  {
   "cell_type": "code",
   "execution_count": null,
   "id": "3e42bf34",
   "metadata": {},
   "outputs": [],
   "source": [
    "make_all_scatterplot(all_movie)"
   ]
  },
  {
   "cell_type": "code",
   "execution_count": null,
   "id": "ec1eee0e",
   "metadata": {},
   "outputs": [],
   "source": [
    "make_all_scatterplot(all_music)"
   ]
  }
 ],
 "metadata": {
  "kernelspec": {
   "display_name": "venv",
   "language": "python",
   "name": "python3"
  },
  "language_info": {
   "codemirror_mode": {
    "name": "ipython",
    "version": 3
   },
   "file_extension": ".py",
   "mimetype": "text/x-python",
   "name": "python",
   "nbconvert_exporter": "python",
   "pygments_lexer": "ipython3",
   "version": "3.11.5"
  }
 },
 "nbformat": 4,
 "nbformat_minor": 5
}
